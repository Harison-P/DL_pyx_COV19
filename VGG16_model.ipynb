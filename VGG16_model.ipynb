{
  "nbformat": 4,
  "nbformat_minor": 0,
  "metadata": {
    "colab": {
      "name": "VGG16_model.ipynb",
      "provenance": [],
      "collapsed_sections": [],
      "toc_visible": true
    },
    "kernelspec": {
      "name": "python3",
      "display_name": "Python 3"
    },
    "accelerator": "GPU"
  },
  "cells": [
    {
      "cell_type": "code",
      "metadata": {
        "id": "R6wKzOD43saM"
      },
      "source": [
        "import numpy as np \r\n",
        "import pandas as pd \r\n",
        "import cv2 \r\n",
        "import matplotlib.pyplot as plt\r\n",
        "import seaborn as sns\r\n",
        "import os\r\n",
        "import glob\r\n",
        "import re\r\n",
        "import random\r\n",
        "from tqdm import tqdm\r\n",
        "from sklearn.preprocessing import LabelEncoder\r\n",
        "from sklearn.model_selection import train_test_split\r\n",
        "from sklearn.metrics import confusion_matrix, classification_report\r\n",
        "import tensorflow as tf\r\n",
        "import keras\r\n",
        "from keras import backend as K\r\n",
        "from keras.utils import to_categorical\r\n",
        "from tensorflow.keras.preprocessing.image import ImageDataGenerator\r\n",
        "from keras import layers\r\n",
        "from tensorflow.keras.layers import Input, Flatten, Dense, Conv2D, MaxPooling2D, GlobalAveragePooling2D, Dropout, Activation, Add, ReLU\r\n",
        "from tensorflow.keras.layers import BatchNormalization\r\n",
        "from tensorflow.keras.models import Model, Sequential\r\n",
        "from tensorflow.keras.metrics import Recall, Precision, AUC\r\n",
        "from tensorflow.keras.callbacks import EarlyStopping, ReduceLROnPlateau\r\n",
        "from tensorflow.keras.optimizers import Adadelta, Adam, SGD\r\n",
        "from keras.regularizers import l2\r\n",
        "from keras.applications.vgg16 import VGG16, preprocess_input\r\n",
        "from keras.applications.resnet50 import ResNet50\r\n",
        "from tensorflow.keras.models import load_model\r\n",
        "import itertools\r\n",
        "import warnings\r\n",
        "warnings.filterwarnings('ignore')"
      ],
      "execution_count": null,
      "outputs": []
    },
    {
      "cell_type": "markdown",
      "metadata": {
        "id": "Lhiy72fE3zYP"
      },
      "source": [
        "# Pre-processing"
      ]
    },
    {
      "cell_type": "markdown",
      "metadata": {
        "id": "XP1rTjKw30-_"
      },
      "source": [
        "## Building a dataframe"
      ]
    },
    {
      "cell_type": "markdown",
      "metadata": {
        "id": "nk8y8eo_326G"
      },
      "source": [
        "> We build a dataframe containing the image filepaths and their corresponding label."
      ]
    },
    {
      "cell_type": "code",
      "metadata": {
        "colab": {
          "base_uri": "https://localhost:8080/",
          "height": 204
        },
        "id": "-prXvBvn344m",
        "outputId": "86d31be9-e450-48ce-b9b1-9d71cb125b69"
      },
      "source": [
        "# find all the files with the PNG extension\r\n",
        "full_path = glob.glob('/content/drive/MyDrive/COVID-19 Radiography Database/*/*.png')\r\n",
        "# extract the image label\r\n",
        "class_name = [re.findall(r'([\\w\\s-]+)', i)[-4] for i in full_path]\r\n",
        "# Build a dataframe\r\n",
        "df = pd.DataFrame(data = np.stack([np.array(full_path), np.array(class_name)], axis = 1), columns = ['img_paths', 'label'])\r\n",
        "df.head()"
      ],
      "execution_count": null,
      "outputs": [
        {
          "output_type": "execute_result",
          "data": {
            "text/html": [
              "<div>\n",
              "<style scoped>\n",
              "    .dataframe tbody tr th:only-of-type {\n",
              "        vertical-align: middle;\n",
              "    }\n",
              "\n",
              "    .dataframe tbody tr th {\n",
              "        vertical-align: top;\n",
              "    }\n",
              "\n",
              "    .dataframe thead th {\n",
              "        text-align: right;\n",
              "    }\n",
              "</style>\n",
              "<table border=\"1\" class=\"dataframe\">\n",
              "  <thead>\n",
              "    <tr style=\"text-align: right;\">\n",
              "      <th></th>\n",
              "      <th>img_paths</th>\n",
              "      <th>label</th>\n",
              "    </tr>\n",
              "  </thead>\n",
              "  <tbody>\n",
              "    <tr>\n",
              "      <th>0</th>\n",
              "      <td>/content/drive/MyDrive/COVID-19 Radiography Da...</td>\n",
              "      <td>COVID-19</td>\n",
              "    </tr>\n",
              "    <tr>\n",
              "      <th>1</th>\n",
              "      <td>/content/drive/MyDrive/COVID-19 Radiography Da...</td>\n",
              "      <td>COVID-19</td>\n",
              "    </tr>\n",
              "    <tr>\n",
              "      <th>2</th>\n",
              "      <td>/content/drive/MyDrive/COVID-19 Radiography Da...</td>\n",
              "      <td>COVID-19</td>\n",
              "    </tr>\n",
              "    <tr>\n",
              "      <th>3</th>\n",
              "      <td>/content/drive/MyDrive/COVID-19 Radiography Da...</td>\n",
              "      <td>COVID-19</td>\n",
              "    </tr>\n",
              "    <tr>\n",
              "      <th>4</th>\n",
              "      <td>/content/drive/MyDrive/COVID-19 Radiography Da...</td>\n",
              "      <td>COVID-19</td>\n",
              "    </tr>\n",
              "  </tbody>\n",
              "</table>\n",
              "</div>"
            ],
            "text/plain": [
              "                                           img_paths     label\n",
              "0  /content/drive/MyDrive/COVID-19 Radiography Da...  COVID-19\n",
              "1  /content/drive/MyDrive/COVID-19 Radiography Da...  COVID-19\n",
              "2  /content/drive/MyDrive/COVID-19 Radiography Da...  COVID-19\n",
              "3  /content/drive/MyDrive/COVID-19 Radiography Da...  COVID-19\n",
              "4  /content/drive/MyDrive/COVID-19 Radiography Da...  COVID-19"
            ]
          },
          "metadata": {
            "tags": []
          },
          "execution_count": 2
        }
      ]
    },
    {
      "cell_type": "markdown",
      "metadata": {
        "id": "GaxCFI7R3-ns"
      },
      "source": [
        "## Train / Test split"
      ]
    },
    {
      "cell_type": "markdown",
      "metadata": {
        "id": "52cjg0hE4BKF"
      },
      "source": [
        "> The data will be split into two parts :\r\n",
        ">- Training set : 80%\r\n",
        ">- Test set : 20%"
      ]
    },
    {
      "cell_type": "code",
      "metadata": {
        "id": "IVdB9upj4CSY"
      },
      "source": [
        "df_train, df_test = train_test_split(df,\r\n",
        "                                     test_size = 0.2,\r\n",
        "                                     stratify = df.label,\r\n",
        "                                     random_state = 42)"
      ],
      "execution_count": null,
      "outputs": []
    },
    {
      "cell_type": "code",
      "metadata": {
        "colab": {
          "base_uri": "https://localhost:8080/"
        },
        "id": "1CiMTvWL4DeW",
        "outputId": "ae16e325-832a-4cac-cdc8-55bed944ed71"
      },
      "source": [
        "print('Training data shape:', df_train.shape)\r\n",
        "print('Test data shape:', df_test.shape)"
      ],
      "execution_count": null,
      "outputs": [
        {
          "output_type": "stream",
          "text": [
            "Training data shape: (2324, 2)\n",
            "Test data shape: (581, 2)\n"
          ],
          "name": "stdout"
        }
      ]
    },
    {
      "cell_type": "code",
      "metadata": {
        "colab": {
          "base_uri": "https://localhost:8080/"
        },
        "id": "6i9CQyKX4EWw",
        "outputId": "5b618fc6-2063-4202-8b92-bab40beb5332"
      },
      "source": [
        "print('Normal images count in training set:', df_train.img_paths.str.contains('NORMAL').sum())\r\n",
        "print('COVID-19 images count in training set:', df_train.img_paths.str.contains('/COVID-19/').sum())\r\n",
        "print('Viral Pneumonia images count in training set:', df_train.img_paths.str.contains('Viral Pneumonia').sum())"
      ],
      "execution_count": null,
      "outputs": [
        {
          "output_type": "stream",
          "text": [
            "Normal images count in training set: 1073\n",
            "COVID-19 images count in training set: 175\n",
            "Viral Pneumonia images count in training set: 1076\n"
          ],
          "name": "stdout"
        }
      ]
    },
    {
      "cell_type": "markdown",
      "metadata": {
        "id": "LIK62mYe4HJt"
      },
      "source": [
        "# Data Augmentation"
      ]
    },
    {
      "cell_type": "markdown",
      "metadata": {
        "id": "LCEztwyV4JfY"
      },
      "source": [
        "> Data augmentation is a method often applied in Deep Learning to generate a number of samples required.\r\n",
        ">\r\n",
        "> It enhances the effectiveness of the neural network for a small databases by optimizing it.\r\n",
        ">\r\n",
        "> Furthemore, our dataset is imbalanced, so applying some image augmentation techniques will aim to artificially increase the size of the training data."
      ]
    },
    {
      "cell_type": "code",
      "metadata": {
        "id": "QR-SxUpN4Kui"
      },
      "source": [
        "datagen_train = ImageDataGenerator(rescale = 1./255.,\r\n",
        "                                   rotation_range = 10,\r\n",
        "                                   zoom_range = [0.9, 1.1],\r\n",
        "                                   width_shift_range = [-0.1, 0.1],\r\n",
        "                                   height_shift_range = [-0.1, 0.1],\r\n",
        "                                   horizontal_flip = True)\r\n",
        "\r\n",
        "datagen_val = ImageDataGenerator(rescale = 1./255.,\r\n",
        "                                 rotation_range = 10,\r\n",
        "                                 zoom_range = [0.9, 1.1],\r\n",
        "                                 width_shift_range = [-0.1, 0.1],\r\n",
        "                                 height_shift_range = [-0.1, 0.1])"
      ],
      "execution_count": null,
      "outputs": []
    },
    {
      "cell_type": "code",
      "metadata": {
        "colab": {
          "base_uri": "https://localhost:8080/"
        },
        "id": "vEf7zjA94L0L",
        "outputId": "315f8766-e30c-4655-c0a3-e3164ece2d38"
      },
      "source": [
        "train_generator = datagen_train.flow_from_dataframe(dataframe = df_train,\r\n",
        "                                                    directory = None,\r\n",
        "                                                    x_col = 'img_paths',\r\n",
        "                                                    y_col = 'label',\r\n",
        "                                                    class_mode = 'categorical',\r\n",
        "                                                    batch_size = 32,\r\n",
        "                                                    shuffle = False,\r\n",
        "                                                    subset = 'training')\r\n",
        "\r\n",
        "test_generator = datagen_val.flow_from_dataframe(dataframe = df_test,\r\n",
        "                                                 directory = None,\r\n",
        "                                                 x_col = 'img_paths',\r\n",
        "                                                 y_col = 'label',\r\n",
        "                                                 class_mode = 'categorical',\r\n",
        "                                                 batch_size = 32,\r\n",
        "                                                 shuffle = False)"
      ],
      "execution_count": null,
      "outputs": [
        {
          "output_type": "stream",
          "text": [
            "Found 2324 validated image filenames belonging to 3 classes.\n",
            "Found 581 validated image filenames belonging to 3 classes.\n"
          ],
          "name": "stdout"
        }
      ]
    },
    {
      "cell_type": "markdown",
      "metadata": {
        "id": "9s4njzRI4O2-"
      },
      "source": [
        "# Model Building"
      ]
    },
    {
      "cell_type": "code",
      "metadata": {
        "id": "uwoIohnU5oMD"
      },
      "source": [
        "batch_size = 32\r\n",
        "learning_rate = 0.001"
      ],
      "execution_count": null,
      "outputs": []
    },
    {
      "cell_type": "markdown",
      "metadata": {
        "id": "p0CpeiFt5T3L"
      },
      "source": [
        "## Custom metrics"
      ]
    },
    {
      "cell_type": "markdown",
      "metadata": {
        "id": "dnO65fehsrOq"
      },
      "source": [
        "> We define the F1-score metric by defining the recall and precision metric function."
      ]
    },
    {
      "cell_type": "code",
      "metadata": {
        "id": "KUGtgflV5U5_"
      },
      "source": [
        "def recall_m(y_true, y_pred):\r\n",
        "    true_positives = K.sum(K.round(K.clip(y_true * y_pred, 0, 1)))\r\n",
        "    possible_positives = K.sum(K.round(K.clip(y_true, 0, 1)))\r\n",
        "    recall = true_positives / (possible_positives + K.epsilon())\r\n",
        "    return recall\r\n",
        "\r\n",
        "def precision_m(y_true, y_pred):\r\n",
        "    true_positives = K.sum(K.round(K.clip(y_true * y_pred, 0, 1)))\r\n",
        "    predicted_positives = K.sum(K.round(K.clip(y_pred, 0, 1)))\r\n",
        "    precision = true_positives / (predicted_positives + K.epsilon())\r\n",
        "    return precision\r\n",
        "\r\n",
        "def f1_m(y_true, y_pred):\r\n",
        "    precision = precision_m(y_true, y_pred)\r\n",
        "    recall = recall_m(y_true, y_pred)\r\n",
        "    return 2*((precision*recall)/(precision+recall+K.epsilon()))"
      ],
      "execution_count": null,
      "outputs": []
    },
    {
      "cell_type": "code",
      "metadata": {
        "id": "Sf4OnLq15Vth"
      },
      "source": [
        "METRICS = ['accuracy', AUC(name = 'auc'), f1_m]"
      ],
      "execution_count": null,
      "outputs": []
    },
    {
      "cell_type": "markdown",
      "metadata": {
        "id": "yIvoNg9X4X4Y"
      },
      "source": [
        "## Architecture"
      ]
    },
    {
      "cell_type": "markdown",
      "metadata": {
        "id": "SkMvz8fSsvHC"
      },
      "source": [
        "> Our model is built using the transfer learning technique. The base model is a pre-trained VGG16 model on ImageNet and the classification part consists of three Dense layers with ReLU activation layer followed by a Dropout layer for regularization with a rate of 0.5. Finally, the output layer consists of 3 neurons, each neuron for a class, and a softmax activation function."
      ]
    },
    {
      "cell_type": "code",
      "metadata": {
        "id": "PzWj2pj64QgY",
        "colab": {
          "base_uri": "https://localhost:8080/"
        },
        "outputId": "c60c025a-8172-4e9e-e267-9e498997855c"
      },
      "source": [
        "num_classes = 3\r\n",
        "\r\n",
        "base_model = VGG16(\r\n",
        "    include_top = False, # Do not include the ImageNet classifier at the top.\r\n",
        "    weights = \"imagenet\", # Load weights pre-trained on ImageNet.\r\n",
        "    input_shape = (224, 224, 3)\r\n",
        ")\r\n",
        "\r\n",
        "# Freeze the base_model\r\n",
        "base_model.trainable = False\r\n",
        "\r\n",
        "output_model = base_model.output\r\n",
        "output_model = GlobalAveragePooling2D()(output_model)\r\n",
        "output_model = Flatten()(output_model)\r\n",
        "output_model = Dense(256, activation = 'relu')(output_model) #adding a new dense 256 layer w/ a .5 dropout\r\n",
        "output_model = Dropout(0.5)(output_model)\r\n",
        "output_model = Dense(128, activation = 'relu')(output_model) #adding a new dense 128 layer w/ a .5 dropout\r\n",
        "output_model = Dropout(0.5)(output_model)\r\n",
        "output_model = Dense(64, activation = 'relu')(output_model)\r\n",
        "output_model = Dropout(0.5)(output_model)\r\n",
        "output_model = Dense(num_classes, activation = 'softmax', name = 'visualized_layer')(output_model)\r\n",
        "\r\n",
        "final_model = Model(inputs = base_model.input, outputs = output_model)\r\n",
        "\r\n",
        "final_model.compile(optimizer = Adam(lr = learning_rate),\r\n",
        "                    loss = 'categorical_crossentropy',\r\n",
        "                    metrics = METRICS)"
      ],
      "execution_count": null,
      "outputs": [
        {
          "output_type": "stream",
          "text": [
            "Downloading data from https://storage.googleapis.com/tensorflow/keras-applications/vgg16/vgg16_weights_tf_dim_ordering_tf_kernels_notop.h5\n",
            "58892288/58889256 [==============================] - 0s 0us/step\n"
          ],
          "name": "stdout"
        }
      ]
    },
    {
      "cell_type": "code",
      "metadata": {
        "colab": {
          "base_uri": "https://localhost:8080/"
        },
        "id": "u80tkjOW5ivh",
        "outputId": "3efa3241-5140-438a-fbff-77045fe294da"
      },
      "source": [
        "final_model.summary()"
      ],
      "execution_count": null,
      "outputs": [
        {
          "output_type": "stream",
          "text": [
            "Model: \"model\"\n",
            "_________________________________________________________________\n",
            "Layer (type)                 Output Shape              Param #   \n",
            "=================================================================\n",
            "input_1 (InputLayer)         [(None, 224, 224, 3)]     0         \n",
            "_________________________________________________________________\n",
            "block1_conv1 (Conv2D)        (None, 224, 224, 64)      1792      \n",
            "_________________________________________________________________\n",
            "block1_conv2 (Conv2D)        (None, 224, 224, 64)      36928     \n",
            "_________________________________________________________________\n",
            "block1_pool (MaxPooling2D)   (None, 112, 112, 64)      0         \n",
            "_________________________________________________________________\n",
            "block2_conv1 (Conv2D)        (None, 112, 112, 128)     73856     \n",
            "_________________________________________________________________\n",
            "block2_conv2 (Conv2D)        (None, 112, 112, 128)     147584    \n",
            "_________________________________________________________________\n",
            "block2_pool (MaxPooling2D)   (None, 56, 56, 128)       0         \n",
            "_________________________________________________________________\n",
            "block3_conv1 (Conv2D)        (None, 56, 56, 256)       295168    \n",
            "_________________________________________________________________\n",
            "block3_conv2 (Conv2D)        (None, 56, 56, 256)       590080    \n",
            "_________________________________________________________________\n",
            "block3_conv3 (Conv2D)        (None, 56, 56, 256)       590080    \n",
            "_________________________________________________________________\n",
            "block3_pool (MaxPooling2D)   (None, 28, 28, 256)       0         \n",
            "_________________________________________________________________\n",
            "block4_conv1 (Conv2D)        (None, 28, 28, 512)       1180160   \n",
            "_________________________________________________________________\n",
            "block4_conv2 (Conv2D)        (None, 28, 28, 512)       2359808   \n",
            "_________________________________________________________________\n",
            "block4_conv3 (Conv2D)        (None, 28, 28, 512)       2359808   \n",
            "_________________________________________________________________\n",
            "block4_pool (MaxPooling2D)   (None, 14, 14, 512)       0         \n",
            "_________________________________________________________________\n",
            "block5_conv1 (Conv2D)        (None, 14, 14, 512)       2359808   \n",
            "_________________________________________________________________\n",
            "block5_conv2 (Conv2D)        (None, 14, 14, 512)       2359808   \n",
            "_________________________________________________________________\n",
            "block5_conv3 (Conv2D)        (None, 14, 14, 512)       2359808   \n",
            "_________________________________________________________________\n",
            "block5_pool (MaxPooling2D)   (None, 7, 7, 512)         0         \n",
            "_________________________________________________________________\n",
            "global_average_pooling2d (Gl (None, 512)               0         \n",
            "_________________________________________________________________\n",
            "flatten (Flatten)            (None, 512)               0         \n",
            "_________________________________________________________________\n",
            "dense (Dense)                (None, 256)               131328    \n",
            "_________________________________________________________________\n",
            "dropout (Dropout)            (None, 256)               0         \n",
            "_________________________________________________________________\n",
            "dense_1 (Dense)              (None, 128)               32896     \n",
            "_________________________________________________________________\n",
            "dropout_1 (Dropout)          (None, 128)               0         \n",
            "_________________________________________________________________\n",
            "dense_2 (Dense)              (None, 64)                8256      \n",
            "_________________________________________________________________\n",
            "dropout_2 (Dropout)          (None, 64)                0         \n",
            "_________________________________________________________________\n",
            "visualized_layer (Dense)     (None, 3)                 195       \n",
            "=================================================================\n",
            "Total params: 14,887,363\n",
            "Trainable params: 172,675\n",
            "Non-trainable params: 14,714,688\n",
            "_________________________________________________________________\n"
          ],
          "name": "stdout"
        }
      ]
    },
    {
      "cell_type": "markdown",
      "metadata": {
        "id": "5NSAdW9-5axG"
      },
      "source": [
        "## Fitting the model"
      ]
    },
    {
      "cell_type": "markdown",
      "metadata": {
        "id": "Yxp-BZOUsynu"
      },
      "source": [
        "> We define class weights to put more emphasis on the imbalanced class during the training phase."
      ]
    },
    {
      "cell_type": "code",
      "metadata": {
        "id": "aPPTItKG_cDt"
      },
      "source": [
        "# covid_19_count = df['COVID-19'].sum()\r\n",
        "# normal_count = df['NORMAL'].sum()\r\n",
        "# viral_count = df['VIRAL_PNEUMONIA'].sum()\r\n",
        "\r\n",
        "# print('COVID-19 images count', covid_19_count)\r\n",
        "# print('NORMAL images count', normal_count)\r\n",
        "# print('Viral Pneumonia images count', viral_count)"
      ],
      "execution_count": null,
      "outputs": []
    },
    {
      "cell_type": "code",
      "metadata": {
        "colab": {
          "base_uri": "https://localhost:8080/"
        },
        "id": "WWEGCcSKHOPf",
        "outputId": "f9b69e2d-b012-4d01-e09c-89ead68d4225"
      },
      "source": [
        "covid_19_count = df[df.label == 'COVID-19'].shape[0]\r\n",
        "normal_count = df[df.label == 'NORMAL'].shape[0]\r\n",
        "viral_count = df[df.label == 'Viral'].shape[0]\r\n",
        "\r\n",
        "print('COVID-19 images count', covid_19_count)\r\n",
        "print('NORMAL images count', normal_count)\r\n",
        "print('Viral Pneumonia images count', viral_count)"
      ],
      "execution_count": null,
      "outputs": [
        {
          "output_type": "stream",
          "text": [
            "COVID-19 images count 219\n",
            "NORMAL images count 1341\n",
            "Viral Pneumonia images count 1345\n"
          ],
          "name": "stdout"
        }
      ]
    },
    {
      "cell_type": "code",
      "metadata": {
        "colab": {
          "base_uri": "https://localhost:8080/"
        },
        "id": "okS389SxHn-M",
        "outputId": "135c337a-dcc8-4db4-ef72-f55307e74847"
      },
      "source": [
        "total_wt = df.shape[0]\r\n",
        "\r\n",
        "weights = {\r\n",
        "    0: 0.5 * (1 - covid_19_count/total_wt),\r\n",
        "    1: 0.5 * (1 - normal_count/total_wt),\r\n",
        "    2: 0.5 * (1 - viral_count/total_wt)\r\n",
        "}\r\n",
        "print(weights)"
      ],
      "execution_count": null,
      "outputs": [
        {
          "output_type": "stream",
          "text": [
            "{0: 0.46230636833046473, 1: 0.2691910499139415, 2: 0.2685025817555938}\n"
          ],
          "name": "stdout"
        }
      ]
    },
    {
      "cell_type": "code",
      "metadata": {
        "colab": {
          "base_uri": "https://localhost:8080/"
        },
        "id": "FBWFi1Xh5eJ7",
        "outputId": "2770bd77-dd38-449b-d4da-3cc2faa33223"
      },
      "source": [
        "history = final_model.fit_generator(generator = train_generator,\r\n",
        "                                    class_weight = weights,\r\n",
        "                                    steps_per_epoch = df_train.shape[0] // batch_size,\r\n",
        "                                    validation_data = test_generator,\r\n",
        "                                    validation_steps = df_test.shape[0] // batch_size,\r\n",
        "                                    epochs = 20)"
      ],
      "execution_count": null,
      "outputs": [
        {
          "output_type": "stream",
          "text": [
            "Epoch 1/20\n",
            "72/72 [==============================] - 1819s 25s/step - loss: 0.3111 - accuracy: 0.4664 - auc: 0.6554 - f1_m: 0.3377 - val_loss: 0.8145 - val_accuracy: 0.6562 - val_auc: 0.8628 - val_f1_m: 0.5242\n",
            "Epoch 2/20\n",
            "72/72 [==============================] - 94s 1s/step - loss: 0.2416 - accuracy: 0.6566 - auc: 0.8216 - f1_m: 0.5359 - val_loss: 0.5467 - val_accuracy: 0.8247 - val_auc: 0.9301 - val_f1_m: 0.8095\n",
            "Epoch 3/20\n",
            "72/72 [==============================] - 94s 1s/step - loss: 0.1831 - accuracy: 0.7893 - auc: 0.9079 - f1_m: 0.7723 - val_loss: 0.4829 - val_accuracy: 0.8212 - val_auc: 0.9390 - val_f1_m: 0.8192\n",
            "Epoch 4/20\n",
            "72/72 [==============================] - 93s 1s/step - loss: 0.1638 - accuracy: 0.8216 - auc: 0.9301 - f1_m: 0.8177 - val_loss: 0.4069 - val_accuracy: 0.8403 - val_auc: 0.9542 - val_f1_m: 0.8412\n",
            "Epoch 5/20\n",
            "72/72 [==============================] - 93s 1s/step - loss: 0.1494 - accuracy: 0.8318 - auc: 0.9399 - f1_m: 0.8212 - val_loss: 0.3726 - val_accuracy: 0.8559 - val_auc: 0.9605 - val_f1_m: 0.8560\n",
            "Epoch 6/20\n",
            "72/72 [==============================] - 93s 1s/step - loss: 0.1349 - accuracy: 0.8525 - auc: 0.9479 - f1_m: 0.8469 - val_loss: 0.3718 - val_accuracy: 0.8403 - val_auc: 0.9641 - val_f1_m: 0.8422\n",
            "Epoch 7/20\n",
            "72/72 [==============================] - 92s 1s/step - loss: 0.1205 - accuracy: 0.8678 - auc: 0.9577 - f1_m: 0.8609 - val_loss: 0.3625 - val_accuracy: 0.8733 - val_auc: 0.9640 - val_f1_m: 0.8774\n",
            "Epoch 8/20\n",
            "72/72 [==============================] - 90s 1s/step - loss: 0.1203 - accuracy: 0.8643 - auc: 0.9571 - f1_m: 0.8595 - val_loss: 0.2917 - val_accuracy: 0.8889 - val_auc: 0.9748 - val_f1_m: 0.8893\n",
            "Epoch 9/20\n",
            "72/72 [==============================] - 90s 1s/step - loss: 0.1031 - accuracy: 0.8866 - auc: 0.9671 - f1_m: 0.8840 - val_loss: 0.2674 - val_accuracy: 0.9045 - val_auc: 0.9797 - val_f1_m: 0.9087\n",
            "Epoch 10/20\n",
            "72/72 [==============================] - 89s 1s/step - loss: 0.1012 - accuracy: 0.8889 - auc: 0.9674 - f1_m: 0.8842 - val_loss: 0.2749 - val_accuracy: 0.9045 - val_auc: 0.9776 - val_f1_m: 0.9070\n",
            "Epoch 11/20\n",
            "72/72 [==============================] - 90s 1s/step - loss: 0.0993 - accuracy: 0.8914 - auc: 0.9683 - f1_m: 0.8865 - val_loss: 0.2485 - val_accuracy: 0.9184 - val_auc: 0.9805 - val_f1_m: 0.9168\n",
            "Epoch 12/20\n",
            "72/72 [==============================] - 90s 1s/step - loss: 0.0870 - accuracy: 0.9047 - auc: 0.9736 - f1_m: 0.9015 - val_loss: 0.2818 - val_accuracy: 0.9010 - val_auc: 0.9766 - val_f1_m: 0.8972\n",
            "Epoch 13/20\n",
            "72/72 [==============================] - 90s 1s/step - loss: 0.1010 - accuracy: 0.8829 - auc: 0.9678 - f1_m: 0.8783 - val_loss: 0.2499 - val_accuracy: 0.9149 - val_auc: 0.9814 - val_f1_m: 0.9147\n",
            "Epoch 14/20\n",
            "72/72 [==============================] - 90s 1s/step - loss: 0.0854 - accuracy: 0.9083 - auc: 0.9745 - f1_m: 0.9010 - val_loss: 0.3602 - val_accuracy: 0.8750 - val_auc: 0.9662 - val_f1_m: 0.8728\n",
            "Epoch 15/20\n",
            "72/72 [==============================] - 91s 1s/step - loss: 0.1045 - accuracy: 0.8906 - auc: 0.9661 - f1_m: 0.8897 - val_loss: 0.2478 - val_accuracy: 0.9132 - val_auc: 0.9823 - val_f1_m: 0.9127\n",
            "Epoch 16/20\n",
            "72/72 [==============================] - 90s 1s/step - loss: 0.0941 - accuracy: 0.8960 - auc: 0.9707 - f1_m: 0.8955 - val_loss: 0.2276 - val_accuracy: 0.9236 - val_auc: 0.9840 - val_f1_m: 0.9241\n",
            "Epoch 17/20\n",
            "72/72 [==============================] - 91s 1s/step - loss: 0.0968 - accuracy: 0.8897 - auc: 0.9687 - f1_m: 0.8844 - val_loss: 0.2177 - val_accuracy: 0.9184 - val_auc: 0.9863 - val_f1_m: 0.9190\n",
            "Epoch 18/20\n",
            "72/72 [==============================] - 92s 1s/step - loss: 0.0754 - accuracy: 0.9156 - auc: 0.9794 - f1_m: 0.9173 - val_loss: 0.2248 - val_accuracy: 0.9219 - val_auc: 0.9861 - val_f1_m: 0.9190\n",
            "Epoch 19/20\n",
            "72/72 [==============================] - 91s 1s/step - loss: 0.0756 - accuracy: 0.9138 - auc: 0.9805 - f1_m: 0.9122 - val_loss: 0.2505 - val_accuracy: 0.9132 - val_auc: 0.9817 - val_f1_m: 0.9130\n",
            "Epoch 20/20\n",
            "72/72 [==============================] - 91s 1s/step - loss: 0.0730 - accuracy: 0.9198 - auc: 0.9813 - f1_m: 0.9184 - val_loss: 0.2020 - val_accuracy: 0.9271 - val_auc: 0.9888 - val_f1_m: 0.9262\n"
          ],
          "name": "stdout"
        }
      ]
    },
    {
      "cell_type": "code",
      "metadata": {
        "id": "-h3GYATzYQD4"
      },
      "source": [
        "# final_model.save('/content/drive/MyDrive/vgg16_first_model.h5')"
      ],
      "execution_count": null,
      "outputs": []
    },
    {
      "cell_type": "markdown",
      "metadata": {
        "id": "JVxNID_Q6bxY"
      },
      "source": [
        "# Evaluation of the model"
      ]
    },
    {
      "cell_type": "markdown",
      "metadata": {
        "id": "ssKDqA9Xs4zz"
      },
      "source": [
        "> We define two functions for evaluating the model.\r\n",
        ">\r\n",
        ">\\\r\n",
        "> The `display_history` function enables to plot the loss function, the accuracy, the f1_score and the AUC for the training and validation set. Its only argument is the history of the model.\r\n",
        ">\r\n",
        ">\\\r\n",
        "> The `plot_confusion_matrix` function enables to plot a beautiful version of the confusion matrix with a heatmap. Its main arguments are :\r\n",
        "> - cm : confusion matrix\r\n",
        "> - classes : the class labels (COVID-19, Normal, Viral Pneumonia)\r\n",
        ">\r\n",
        "> The output is a normalized confusion matrix regarding the recalls. In other words, only the recalls for each class is shown."
      ]
    },
    {
      "cell_type": "code",
      "metadata": {
        "id": "woa0PISj6eeI"
      },
      "source": [
        "def display_history(history_):\r\n",
        "    fig, ax = plt.subplots(1, 4, figsize = (20, 10))\r\n",
        "    ax[0].plot(history_.history['loss'], color = 'b', label = \"training_loss\")\r\n",
        "    ax[0].plot(history_.history['val_loss'], color = 'r', label = \"validation_loss\", axes = ax[0])\r\n",
        "    legend = ax[0].legend(loc = 'best', shadow = True)\r\n",
        "\r\n",
        "    ax[1].plot(history_.history['accuracy'], color = 'b', label = \"training_accuracy\")\r\n",
        "    ax[1].plot(history_.history['val_accuracy'], color = 'r', label = \"validation_accuracy\")\r\n",
        "    legend = ax[1].legend(loc = 'best', shadow = True)\r\n",
        "\r\n",
        "    ax[2].plot(history_.history['f1_m'], color = 'b', label = \"training_f1_score\")\r\n",
        "    ax[2].plot(history_.history['val_f1_m'], color = 'r', label = \"validation_f1_score\")\r\n",
        "    legend = ax[2].legend(loc = 'best', shadow = True)\r\n",
        "\r\n",
        "    ax[3].plot(history_.history['auc'], color = 'b', label = \"training_auc\")\r\n",
        "    ax[3].plot(history_.history['val_auc'], color = 'r', label = \"validation_auc\")\r\n",
        "    legend = ax[3].legend(loc = 'best', shadow = True)"
      ],
      "execution_count": null,
      "outputs": []
    },
    {
      "cell_type": "code",
      "metadata": {
        "id": "5O54hZkz9YPP"
      },
      "source": [
        "def plot_confusion_matrix(cm, classes, title='Confusion matrix', cmap=plt.cm.Blues):\r\n",
        "    cm = cm.astype('float') / cm.sum(axis=1)[:, np.newaxis]\r\n",
        "    plt.figure(figsize=(10,10))\r\n",
        "    plt.imshow(cm, interpolation='nearest', cmap=cmap)\r\n",
        "    plt.title(title)\r\n",
        "    plt.colorbar()\r\n",
        "    tick_marks = np.arange(len(classes))\r\n",
        "    plt.xticks(tick_marks, classes, rotation=45)\r\n",
        "    plt.yticks(tick_marks, classes)\r\n",
        "\r\n",
        "    fmt = '.2f'\r\n",
        "    thresh = cm.max() / 2.\r\n",
        "    for i, j in itertools.product(range(cm.shape[0]), range(cm.shape[1])):\r\n",
        "        plt.text(j, i, format(cm[i, j], fmt),\r\n",
        "                 horizontalalignment=\"center\",\r\n",
        "                 color=\"white\" if cm[i, j] > thresh else \"black\")\r\n",
        "\r\n",
        "    plt.ylabel('True label')\r\n",
        "    plt.xlabel('Predicted label')\r\n",
        "    plt.tight_layout()"
      ],
      "execution_count": null,
      "outputs": []
    },
    {
      "cell_type": "code",
      "metadata": {
        "colab": {
          "base_uri": "https://localhost:8080/"
        },
        "id": "WcdtL1cE7t6m",
        "outputId": "0289ac19-a5c8-46ba-bee0-25aefa03a8d8"
      },
      "source": [
        "results = final_model.evaluate_generator(generator = test_generator, steps = df_test.shape[0] // batch_size)\r\n",
        "for index, metric in enumerate(final_model.metrics_names):\r\n",
        "  print(f'test_{metric} :',round(results[index]*100),'%')"
      ],
      "execution_count": null,
      "outputs": [
        {
          "output_type": "stream",
          "text": [
            "test_loss : 21 %\n",
            "test_accuracy : 92 %\n",
            "test_auc : 99 %\n",
            "test_f1_m : 92 %\n"
          ],
          "name": "stdout"
        }
      ]
    },
    {
      "cell_type": "code",
      "metadata": {
        "colab": {
          "base_uri": "https://localhost:8080/",
          "height": 592
        },
        "id": "W7dUofhb72_V",
        "outputId": "17a9b522-7191-4ab9-ecdf-287de5d6ac1e"
      },
      "source": [
        "display_history(history)"
      ],
      "execution_count": null,
      "outputs": [
        {
          "output_type": "display_data",
          "data": {
            "image/png": "[encoded data removed]",
            "text/plain": [
              "<Figure size 1440x720 with 4 Axes>"
            ]
          },
          "metadata": {
            "tags": [],
            "needs_background": "light"
          }
        }
      ]
    },
    {
      "cell_type": "markdown",
      "metadata": {
        "id": "dhKLX-wo8Ff_"
      },
      "source": [
        "## Confusion matrix"
      ]
    },
    {
      "cell_type": "code",
      "metadata": {
        "id": "Du277dJv8G8u"
      },
      "source": [
        "test_generator.reset() # the reset method allows us to not get the outputs in disorder\r\n",
        "predictions = final_model.predict_generator(generator = test_generator)\r\n",
        "y_test = test_generator.classes\r\n",
        "y_pred = np.argmax(predictions, axis = -1)\r\n",
        "class_names = test_generator.class_indices.keys()"
      ],
      "execution_count": null,
      "outputs": []
    },
    {
      "cell_type": "markdown",
      "metadata": {
        "id": "G3QML6FRnoFT"
      },
      "source": [
        "> The `y_pred` array contains the predicted labels but since they are encoded, we can't tell which predicted encoded label corresponds to its predicted original (*categorical*) label.\r\n",
        ">\r\n",
        "> In the following cell, the `final_predictions` list maps the predicted labels with their uniques ID's (*i.e.* filenames `img_paths`)."
      ]
    },
    {
      "cell_type": "code",
      "metadata": {
        "id": "0CGevN_Hixd6"
      },
      "source": [
        "labels = (train_generator.class_indices)\r\n",
        "labels = dict((v,k) for k,v in labels.items())\r\n",
        "final_predictions = [labels[k] for k in y_pred]\r\n",
        "\r\n",
        "filenames = test_generator.filenames\r\n",
        "results = pd.DataFrame({\"img_paths\":filenames,\r\n",
        "                      \"Predictions\":final_predictions})"
      ],
      "execution_count": null,
      "outputs": []
    },
    {
      "cell_type": "markdown",
      "metadata": {
        "id": "b3WTAxg1nJ3a"
      },
      "source": [
        "> We build a dataframe `results` that associates the predicted label to the image."
      ]
    },
    {
      "cell_type": "code",
      "metadata": {
        "colab": {
          "base_uri": "https://localhost:8080/",
          "height": 204
        },
        "id": "ppi40Tq7jCYG",
        "outputId": "ac8d74c0-6573-43b2-efa5-177c1b959a49"
      },
      "source": [
        "results.head()"
      ],
      "execution_count": null,
      "outputs": [
        {
          "output_type": "execute_result",
          "data": {
            "text/html": [
              "<div>\n",
              "<style scoped>\n",
              "    .dataframe tbody tr th:only-of-type {\n",
              "        vertical-align: middle;\n",
              "    }\n",
              "\n",
              "    .dataframe tbody tr th {\n",
              "        vertical-align: top;\n",
              "    }\n",
              "\n",
              "    .dataframe thead th {\n",
              "        text-align: right;\n",
              "    }\n",
              "</style>\n",
              "<table border=\"1\" class=\"dataframe\">\n",
              "  <thead>\n",
              "    <tr style=\"text-align: right;\">\n",
              "      <th></th>\n",
              "      <th>img_paths</th>\n",
              "      <th>Predictions</th>\n",
              "    </tr>\n",
              "  </thead>\n",
              "  <tbody>\n",
              "    <tr>\n",
              "      <th>0</th>\n",
              "      <td>/content/drive/MyDrive/COVID-19 Radiography Da...</td>\n",
              "      <td>Viral</td>\n",
              "    </tr>\n",
              "    <tr>\n",
              "      <th>1</th>\n",
              "      <td>/content/drive/MyDrive/COVID-19 Radiography Da...</td>\n",
              "      <td>NORMAL</td>\n",
              "    </tr>\n",
              "    <tr>\n",
              "      <th>2</th>\n",
              "      <td>/content/drive/MyDrive/COVID-19 Radiography Da...</td>\n",
              "      <td>Viral</td>\n",
              "    </tr>\n",
              "    <tr>\n",
              "      <th>3</th>\n",
              "      <td>/content/drive/MyDrive/COVID-19 Radiography Da...</td>\n",
              "      <td>NORMAL</td>\n",
              "    </tr>\n",
              "    <tr>\n",
              "      <th>4</th>\n",
              "      <td>/content/drive/MyDrive/COVID-19 Radiography Da...</td>\n",
              "      <td>NORMAL</td>\n",
              "    </tr>\n",
              "  </tbody>\n",
              "</table>\n",
              "</div>"
            ],
            "text/plain": [
              "                                           img_paths Predictions\n",
              "0  /content/drive/MyDrive/COVID-19 Radiography Da...       Viral\n",
              "1  /content/drive/MyDrive/COVID-19 Radiography Da...      NORMAL\n",
              "2  /content/drive/MyDrive/COVID-19 Radiography Da...       Viral\n",
              "3  /content/drive/MyDrive/COVID-19 Radiography Da...      NORMAL\n",
              "4  /content/drive/MyDrive/COVID-19 Radiography Da...      NORMAL"
            ]
          },
          "metadata": {
            "tags": []
          },
          "execution_count": 32
        }
      ]
    },
    {
      "cell_type": "code",
      "metadata": {
        "colab": {
          "base_uri": "https://localhost:8080/",
          "height": 204
        },
        "id": "w4Nvhr2QjUXY",
        "outputId": "3e23ce4a-0397-44f0-a89d-cbec127537ce"
      },
      "source": [
        "final_df_labels = df_test.merge(results, on = 'img_paths')\r\n",
        "final_df_labels.head()"
      ],
      "execution_count": null,
      "outputs": [
        {
          "output_type": "execute_result",
          "data": {
            "text/html": [
              "<div>\n",
              "<style scoped>\n",
              "    .dataframe tbody tr th:only-of-type {\n",
              "        vertical-align: middle;\n",
              "    }\n",
              "\n",
              "    .dataframe tbody tr th {\n",
              "        vertical-align: top;\n",
              "    }\n",
              "\n",
              "    .dataframe thead th {\n",
              "        text-align: right;\n",
              "    }\n",
              "</style>\n",
              "<table border=\"1\" class=\"dataframe\">\n",
              "  <thead>\n",
              "    <tr style=\"text-align: right;\">\n",
              "      <th></th>\n",
              "      <th>img_paths</th>\n",
              "      <th>label</th>\n",
              "      <th>Predictions</th>\n",
              "    </tr>\n",
              "  </thead>\n",
              "  <tbody>\n",
              "    <tr>\n",
              "      <th>0</th>\n",
              "      <td>/content/drive/MyDrive/COVID-19 Radiography Da...</td>\n",
              "      <td>Viral</td>\n",
              "      <td>Viral</td>\n",
              "    </tr>\n",
              "    <tr>\n",
              "      <th>1</th>\n",
              "      <td>/content/drive/MyDrive/COVID-19 Radiography Da...</td>\n",
              "      <td>NORMAL</td>\n",
              "      <td>NORMAL</td>\n",
              "    </tr>\n",
              "    <tr>\n",
              "      <th>2</th>\n",
              "      <td>/content/drive/MyDrive/COVID-19 Radiography Da...</td>\n",
              "      <td>Viral</td>\n",
              "      <td>Viral</td>\n",
              "    </tr>\n",
              "    <tr>\n",
              "      <th>3</th>\n",
              "      <td>/content/drive/MyDrive/COVID-19 Radiography Da...</td>\n",
              "      <td>NORMAL</td>\n",
              "      <td>NORMAL</td>\n",
              "    </tr>\n",
              "    <tr>\n",
              "      <th>4</th>\n",
              "      <td>/content/drive/MyDrive/COVID-19 Radiography Da...</td>\n",
              "      <td>NORMAL</td>\n",
              "      <td>NORMAL</td>\n",
              "    </tr>\n",
              "  </tbody>\n",
              "</table>\n",
              "</div>"
            ],
            "text/plain": [
              "                                           img_paths   label Predictions\n",
              "0  /content/drive/MyDrive/COVID-19 Radiography Da...   Viral       Viral\n",
              "1  /content/drive/MyDrive/COVID-19 Radiography Da...  NORMAL      NORMAL\n",
              "2  /content/drive/MyDrive/COVID-19 Radiography Da...   Viral       Viral\n",
              "3  /content/drive/MyDrive/COVID-19 Radiography Da...  NORMAL      NORMAL\n",
              "4  /content/drive/MyDrive/COVID-19 Radiography Da...  NORMAL      NORMAL"
            ]
          },
          "metadata": {
            "tags": []
          },
          "execution_count": 36
        }
      ]
    },
    {
      "cell_type": "markdown",
      "metadata": {
        "id": "TtNMi48zoYtc"
      },
      "source": [
        "> The `final_df_labels` is a merge between the `df_test` DataFrame with the ground truth labels and the `results` DataFrame with the predicted labels."
      ]
    },
    {
      "cell_type": "code",
      "metadata": {
        "id": "hQRGFSC79aq3"
      },
      "source": [
        "# compute confusion matrix\r\n",
        "cnf_matrix = confusion_matrix(y_test, y_pred)\r\n",
        "np.set_printoptions(precision=2)"
      ],
      "execution_count": null,
      "outputs": []
    },
    {
      "cell_type": "code",
      "metadata": {
        "colab": {
          "base_uri": "https://localhost:8080/",
          "height": 739
        },
        "id": "s-237Yvr9eHL",
        "outputId": "db5edcc3-9d98-4056-de9b-c0f966aa4305"
      },
      "source": [
        "# plot normalized confusion matrix\r\n",
        "plt.figure()\r\n",
        "plot_confusion_matrix(cnf_matrix, classes = class_names, title = 'Normalized confusion matrix')\r\n",
        "plt.show();"
      ],
      "execution_count": null,
      "outputs": [
        {
          "output_type": "display_data",
          "data": {
            "text/plain": [
              "<Figure size 432x288 with 0 Axes>"
            ]
          },
          "metadata": {
            "tags": []
          }
        },
        {
          "output_type": "display_data",
          "data": {
            "image/png": "[encoded data removed]",
            "text/plain": [
              "<Figure size 720x720 with 2 Axes>"
            ]
          },
          "metadata": {
            "tags": [],
            "needs_background": "light"
          }
        }
      ]
    },
    {
      "cell_type": "markdown",
      "metadata": {
        "id": "Mf6ONlaBbcgj"
      },
      "source": [
        "> This normalized confusion matrix represents the recalls of each category.\r\n",
        ">\r\n",
        "> As one can see, on the one hand the recalls for COVID-19 and Normal categories are almost perfect (respectively 98% and 96%), on the other hand the Viral Pneumonial category needs some improving since 12% of Viral Pneumonia images are predicted as Normal."
      ]
    },
    {
      "cell_type": "markdown",
      "metadata": {
        "id": "xtdyPQYtg23C"
      },
      "source": [
        "## Classification report"
      ]
    },
    {
      "cell_type": "code",
      "metadata": {
        "colab": {
          "base_uri": "https://localhost:8080/"
        },
        "id": "023O6BTEg23K",
        "outputId": "7fe0cb65-1d34-4703-eb22-a5686f9d4425"
      },
      "source": [
        "print(classification_report(y_test, y_pred, target_names = class_names))"
      ],
      "execution_count": null,
      "outputs": [
        {
          "output_type": "stream",
          "text": [
            "              precision    recall  f1-score   support\n",
            "\n",
            "    COVID-19       0.91      0.98      0.95        44\n",
            "      NORMAL       0.89      0.96      0.93       268\n",
            "       Viral       0.97      0.88      0.92       269\n",
            "\n",
            "    accuracy                           0.93       581\n",
            "   macro avg       0.92      0.94      0.93       581\n",
            "weighted avg       0.93      0.93      0.93       581\n",
            "\n"
          ],
          "name": "stdout"
        }
      ]
    },
    {
      "cell_type": "markdown",
      "metadata": {
        "id": "7K9Tjp2wmmWq"
      },
      "source": [
        "> The recalls for COVID-19 and Normal are higher than precision which is exactly what we would want because, in the medical field, we strive for getting the number of False Negatives as low as possible.\r\n",
        ">\r\n",
        "> Note that the f1-score for each category is greater than 90% which is a good result."
      ]
    },
    {
      "cell_type": "markdown",
      "metadata": {
        "id": "2jrUkJdZe2II"
      },
      "source": [
        "# Fine-tuning"
      ]
    },
    {
      "cell_type": "markdown",
      "metadata": {
        "id": "0xawEkUFgXDw"
      },
      "source": [
        "## Architecture"
      ]
    },
    {
      "cell_type": "code",
      "metadata": {
        "id": "zK_npFHWfx4E"
      },
      "source": [
        "# We let the model train the 10 last layers of the VGG16 models\r\n",
        "for layer in base_model.layers[-10:]:\r\n",
        "    layer.trainable = True"
      ],
      "execution_count": null,
      "outputs": []
    },
    {
      "cell_type": "code",
      "metadata": {
        "id": "hHMqzlIFlSE2"
      },
      "source": [
        "# The 'lr_plateau' callback enables to change the learning_rate with respect to the accuracy metric on the test set\r\n",
        "lr_plateau = ReduceLROnPlateau(monitor = 'val_loss',\r\n",
        "                               patience = 10,\r\n",
        "                               verbose = 2,\r\n",
        "                               mode = 'min')"
      ],
      "execution_count": null,
      "outputs": []
    },
    {
      "cell_type": "code",
      "metadata": {
        "id": "QRpxZyZzf49_"
      },
      "source": [
        "# Let's run again the model, decreasing the learning rate\r\n",
        "final_model.compile(optimizer = Adam(lr = learning_rate/10),\r\n",
        "                    loss = 'categorical_crossentropy',\r\n",
        "                    metrics = METRICS)"
      ],
      "execution_count": null,
      "outputs": []
    },
    {
      "cell_type": "markdown",
      "metadata": {
        "id": "QzdLRrRigZH2"
      },
      "source": [
        "## Fitting the fine-tuned model"
      ]
    },
    {
      "cell_type": "code",
      "metadata": {
        "colab": {
          "base_uri": "https://localhost:8080/"
        },
        "id": "PBsdfsGMe4r_",
        "outputId": "ab25aa52-ee06-4fac-8af7-0c61e5f58647"
      },
      "source": [
        "finetuned_history = final_model.fit_generator(generator = train_generator,\r\n",
        "                                              class_weight = weights,\r\n",
        "                                              steps_per_epoch = df_train.shape[0] // batch_size,\r\n",
        "                                              validation_data = test_generator,\r\n",
        "                                              validation_steps = df_test.shape[0] // batch_size,\r\n",
        "                                              epochs = 30,\r\n",
        "                                              callbacks = [lr_plateau])"
      ],
      "execution_count": null,
      "outputs": [
        {
          "output_type": "stream",
          "text": [
            "Epoch 1/30\n",
            "72/72 [==============================] - 99s 1s/step - loss: 0.3247 - accuracy: 0.7310 - auc: 0.9284 - f1_m: 0.7259 - val_loss: 0.2579 - val_accuracy: 0.8941 - val_auc: 0.9812 - val_f1_m: 0.8946\n",
            "Epoch 2/30\n",
            "72/72 [==============================] - 96s 1s/step - loss: 0.1169 - accuracy: 0.8726 - auc: 0.9642 - f1_m: 0.8713 - val_loss: 0.2451 - val_accuracy: 0.9132 - val_auc: 0.9837 - val_f1_m: 0.9120\n",
            "Epoch 3/30\n",
            "72/72 [==============================] - 96s 1s/step - loss: 0.0724 - accuracy: 0.9257 - auc: 0.9816 - f1_m: 0.9281 - val_loss: 0.2057 - val_accuracy: 0.9358 - val_auc: 0.9862 - val_f1_m: 0.9350\n",
            "Epoch 4/30\n",
            "72/72 [==============================] - 96s 1s/step - loss: 0.0685 - accuracy: 0.9284 - auc: 0.9835 - f1_m: 0.9299 - val_loss: 0.2161 - val_accuracy: 0.9219 - val_auc: 0.9854 - val_f1_m: 0.9190\n",
            "Epoch 5/30\n",
            "72/72 [==============================] - 96s 1s/step - loss: 0.0649 - accuracy: 0.9194 - auc: 0.9850 - f1_m: 0.9218 - val_loss: 0.2576 - val_accuracy: 0.9167 - val_auc: 0.9813 - val_f1_m: 0.9164\n",
            "Epoch 6/30\n",
            "72/72 [==============================] - 95s 1s/step - loss: 0.0586 - accuracy: 0.9301 - auc: 0.9872 - f1_m: 0.9291 - val_loss: 0.1840 - val_accuracy: 0.9340 - val_auc: 0.9898 - val_f1_m: 0.9379\n",
            "Epoch 7/30\n",
            "72/72 [==============================] - 94s 1s/step - loss: 0.0634 - accuracy: 0.9253 - auc: 0.9871 - f1_m: 0.9245 - val_loss: 0.2145 - val_accuracy: 0.9219 - val_auc: 0.9871 - val_f1_m: 0.9233\n",
            "Epoch 8/30\n",
            "72/72 [==============================] - 95s 1s/step - loss: 0.0588 - accuracy: 0.9310 - auc: 0.9871 - f1_m: 0.9297 - val_loss: 0.1746 - val_accuracy: 0.9410 - val_auc: 0.9899 - val_f1_m: 0.9397\n",
            "Epoch 9/30\n",
            "72/72 [==============================] - 96s 1s/step - loss: 0.0736 - accuracy: 0.9129 - auc: 0.9817 - f1_m: 0.9134 - val_loss: 0.2174 - val_accuracy: 0.9306 - val_auc: 0.9860 - val_f1_m: 0.9329\n",
            "Epoch 10/30\n",
            "72/72 [==============================] - 96s 1s/step - loss: 0.0473 - accuracy: 0.9385 - auc: 0.9920 - f1_m: 0.9417 - val_loss: 0.2642 - val_accuracy: 0.9392 - val_auc: 0.9868 - val_f1_m: 0.9392\n",
            "Epoch 11/30\n",
            "72/72 [==============================] - 95s 1s/step - loss: 0.0619 - accuracy: 0.9328 - auc: 0.9865 - f1_m: 0.9309 - val_loss: 0.1956 - val_accuracy: 0.9358 - val_auc: 0.9883 - val_f1_m: 0.9371\n",
            "Epoch 12/30\n",
            "72/72 [==============================] - 95s 1s/step - loss: 0.0441 - accuracy: 0.9537 - auc: 0.9928 - f1_m: 0.9549 - val_loss: 0.1486 - val_accuracy: 0.9549 - val_auc: 0.9911 - val_f1_m: 0.9565\n",
            "Epoch 13/30\n",
            "72/72 [==============================] - 95s 1s/step - loss: 0.0381 - accuracy: 0.9549 - auc: 0.9928 - f1_m: 0.9555 - val_loss: 0.1918 - val_accuracy: 0.9358 - val_auc: 0.9881 - val_f1_m: 0.9330\n",
            "Epoch 14/30\n",
            "72/72 [==============================] - 94s 1s/step - loss: 0.0376 - accuracy: 0.9616 - auc: 0.9936 - f1_m: 0.9621 - val_loss: 0.1353 - val_accuracy: 0.9635 - val_auc: 0.9935 - val_f1_m: 0.9635\n",
            "Epoch 15/30\n",
            "72/72 [==============================] - 94s 1s/step - loss: 0.0314 - accuracy: 0.9733 - auc: 0.9951 - f1_m: 0.9732 - val_loss: 0.1114 - val_accuracy: 0.9566 - val_auc: 0.9968 - val_f1_m: 0.9582\n",
            "Epoch 16/30\n",
            "72/72 [==============================] - 94s 1s/step - loss: 0.0267 - accuracy: 0.9660 - auc: 0.9960 - f1_m: 0.9660 - val_loss: 0.2110 - val_accuracy: 0.9549 - val_auc: 0.9885 - val_f1_m: 0.9540\n",
            "Epoch 17/30\n",
            "72/72 [==============================] - 93s 1s/step - loss: 0.0644 - accuracy: 0.9276 - auc: 0.9871 - f1_m: 0.9266 - val_loss: 0.1877 - val_accuracy: 0.9427 - val_auc: 0.9937 - val_f1_m: 0.9435\n",
            "Epoch 18/30\n",
            "72/72 [==============================] - 93s 1s/step - loss: 0.0411 - accuracy: 0.9560 - auc: 0.9935 - f1_m: 0.9551 - val_loss: 0.1222 - val_accuracy: 0.9566 - val_auc: 0.9947 - val_f1_m: 0.9565\n",
            "Epoch 19/30\n",
            "72/72 [==============================] - 93s 1s/step - loss: 0.0258 - accuracy: 0.9746 - auc: 0.9964 - f1_m: 0.9751 - val_loss: 0.1612 - val_accuracy: 0.9444 - val_auc: 0.9906 - val_f1_m: 0.9424\n",
            "Epoch 20/30\n",
            "72/72 [==============================] - 93s 1s/step - loss: 0.0409 - accuracy: 0.9586 - auc: 0.9933 - f1_m: 0.9612 - val_loss: 0.1454 - val_accuracy: 0.9618 - val_auc: 0.9903 - val_f1_m: 0.9626\n",
            "Epoch 21/30\n",
            "72/72 [==============================] - 94s 1s/step - loss: 0.0406 - accuracy: 0.9537 - auc: 0.9939 - f1_m: 0.9527 - val_loss: 0.1054 - val_accuracy: 0.9653 - val_auc: 0.9947 - val_f1_m: 0.9661\n",
            "Epoch 22/30\n",
            "72/72 [==============================] - 94s 1s/step - loss: 0.0221 - accuracy: 0.9736 - auc: 0.9979 - f1_m: 0.9719 - val_loss: 0.1133 - val_accuracy: 0.9653 - val_auc: 0.9932 - val_f1_m: 0.9661\n",
            "Epoch 23/30\n",
            "72/72 [==============================] - 94s 1s/step - loss: 0.0243 - accuracy: 0.9679 - auc: 0.9976 - f1_m: 0.9688 - val_loss: 0.1250 - val_accuracy: 0.9549 - val_auc: 0.9950 - val_f1_m: 0.9573\n",
            "Epoch 24/30\n",
            "72/72 [==============================] - 94s 1s/step - loss: 0.0325 - accuracy: 0.9650 - auc: 0.9960 - f1_m: 0.9637 - val_loss: 0.1162 - val_accuracy: 0.9601 - val_auc: 0.9957 - val_f1_m: 0.9608\n",
            "Epoch 25/30\n",
            "72/72 [==============================] - 93s 1s/step - loss: 0.0220 - accuracy: 0.9735 - auc: 0.9977 - f1_m: 0.9728 - val_loss: 0.1399 - val_accuracy: 0.9618 - val_auc: 0.9930 - val_f1_m: 0.9608\n",
            "Epoch 26/30\n",
            "72/72 [==============================] - 92s 1s/step - loss: 0.0155 - accuracy: 0.9820 - auc: 0.9988 - f1_m: 0.9813 - val_loss: 0.1613 - val_accuracy: 0.9549 - val_auc: 0.9921 - val_f1_m: 0.9548\n",
            "Epoch 27/30\n",
            "72/72 [==============================] - 92s 1s/step - loss: 0.0297 - accuracy: 0.9621 - auc: 0.9962 - f1_m: 0.9621 - val_loss: 0.1221 - val_accuracy: 0.9618 - val_auc: 0.9938 - val_f1_m: 0.9616\n",
            "Epoch 28/30\n",
            "72/72 [==============================] - 92s 1s/step - loss: 0.0240 - accuracy: 0.9796 - auc: 0.9971 - f1_m: 0.9810 - val_loss: 0.1248 - val_accuracy: 0.9514 - val_auc: 0.9948 - val_f1_m: 0.9546\n",
            "Epoch 29/30\n",
            "72/72 [==============================] - 92s 1s/step - loss: 0.0294 - accuracy: 0.9696 - auc: 0.9966 - f1_m: 0.9699 - val_loss: 0.1445 - val_accuracy: 0.9514 - val_auc: 0.9922 - val_f1_m: 0.9522\n",
            "Epoch 30/30\n",
            "72/72 [==============================] - 92s 1s/step - loss: 0.0246 - accuracy: 0.9730 - auc: 0.9971 - f1_m: 0.9723 - val_loss: 0.1385 - val_accuracy: 0.9653 - val_auc: 0.9929 - val_f1_m: 0.9653\n"
          ],
          "name": "stdout"
        }
      ]
    },
    {
      "cell_type": "markdown",
      "metadata": {
        "id": "07CNXFu8geHJ"
      },
      "source": [
        "## Evaluation of the fine-tuned model"
      ]
    },
    {
      "cell_type": "code",
      "metadata": {
        "id": "BETInuGWgMhY",
        "colab": {
          "base_uri": "https://localhost:8080/"
        },
        "outputId": "5f9e79e9-6f7d-4007-9cf1-a4874330b409"
      },
      "source": [
        "fine_tuned_results = final_model.evaluate_generator(generator = test_generator, steps = df_test.shape[0] // batch_size)\r\n",
        "for index, metric in enumerate(final_model.metrics_names):\r\n",
        "  print(f'test_{metric} :',round(fine_tuned_results[index]*100),'%')"
      ],
      "execution_count": null,
      "outputs": [
        {
          "output_type": "stream",
          "text": [
            "test_loss : 14 %\n",
            "test_accuracy : 96 %\n",
            "test_auc : 99 %\n",
            "test_f1_m : 96 %\n"
          ],
          "name": "stdout"
        }
      ]
    },
    {
      "cell_type": "code",
      "metadata": {
        "id": "sDOnkinEgTSd",
        "colab": {
          "base_uri": "https://localhost:8080/",
          "height": 592
        },
        "outputId": "8d20fa30-c4cf-48e9-8cd6-54bbd15a0629"
      },
      "source": [
        "display_history(finetuned_history)"
      ],
      "execution_count": null,
      "outputs": [
        {
          "output_type": "display_data",
          "data": {
            "image/png": "[encoded data removed]",
            "text/plain": [
              "<Figure size 1440x720 with 4 Axes>"
            ]
          },
          "metadata": {
            "tags": [],
            "needs_background": "light"
          }
        }
      ]
    },
    {
      "cell_type": "markdown",
      "metadata": {
        "id": "nwYnbXwpgqf2"
      },
      "source": [
        "### Confusion matrix"
      ]
    },
    {
      "cell_type": "code",
      "metadata": {
        "id": "BaQzPm5Hgqf2"
      },
      "source": [
        "test_generator.reset()\r\n",
        "predictions = final_model.predict_generator(generator = test_generator)\r\n",
        "y_test = test_generator.classes\r\n",
        "y_pred = np.argmax(predictions, axis = -1)\r\n",
        "class_names = test_generator.class_indices.keys()"
      ],
      "execution_count": null,
      "outputs": []
    },
    {
      "cell_type": "code",
      "metadata": {
        "id": "h8FYf0jWxNbn"
      },
      "source": [
        "fine_labels = (train_generator.class_indices)\r\n",
        "fine_labels = dict((v,k) for k,v in fine_labels.items())\r\n",
        "fine_final_predictions = [fine_labels[k] for k in y_pred]\r\n",
        "\r\n",
        "filenames = test_generator.filenames\r\n",
        "fine_results = pd.DataFrame({\"img_paths\":filenames,\r\n",
        "                             \"Predictions\":fine_final_predictions})"
      ],
      "execution_count": null,
      "outputs": []
    },
    {
      "cell_type": "code",
      "metadata": {
        "colab": {
          "base_uri": "https://localhost:8080/",
          "height": 204
        },
        "id": "tKuhuQW-xcpC",
        "outputId": "78f42c31-d732-49c5-8ab3-2d864bba44ea"
      },
      "source": [
        "fine_final_df_labels = df_test.merge(fine_results, on = 'img_paths')\r\n",
        "fine_final_df_labels.head()"
      ],
      "execution_count": null,
      "outputs": [
        {
          "output_type": "execute_result",
          "data": {
            "text/html": [
              "<div>\n",
              "<style scoped>\n",
              "    .dataframe tbody tr th:only-of-type {\n",
              "        vertical-align: middle;\n",
              "    }\n",
              "\n",
              "    .dataframe tbody tr th {\n",
              "        vertical-align: top;\n",
              "    }\n",
              "\n",
              "    .dataframe thead th {\n",
              "        text-align: right;\n",
              "    }\n",
              "</style>\n",
              "<table border=\"1\" class=\"dataframe\">\n",
              "  <thead>\n",
              "    <tr style=\"text-align: right;\">\n",
              "      <th></th>\n",
              "      <th>img_paths</th>\n",
              "      <th>label</th>\n",
              "      <th>Predictions</th>\n",
              "    </tr>\n",
              "  </thead>\n",
              "  <tbody>\n",
              "    <tr>\n",
              "      <th>0</th>\n",
              "      <td>/content/drive/MyDrive/COVID-19 Radiography Da...</td>\n",
              "      <td>Viral</td>\n",
              "      <td>Viral</td>\n",
              "    </tr>\n",
              "    <tr>\n",
              "      <th>1</th>\n",
              "      <td>/content/drive/MyDrive/COVID-19 Radiography Da...</td>\n",
              "      <td>NORMAL</td>\n",
              "      <td>NORMAL</td>\n",
              "    </tr>\n",
              "    <tr>\n",
              "      <th>2</th>\n",
              "      <td>/content/drive/MyDrive/COVID-19 Radiography Da...</td>\n",
              "      <td>Viral</td>\n",
              "      <td>Viral</td>\n",
              "    </tr>\n",
              "    <tr>\n",
              "      <th>3</th>\n",
              "      <td>/content/drive/MyDrive/COVID-19 Radiography Da...</td>\n",
              "      <td>NORMAL</td>\n",
              "      <td>NORMAL</td>\n",
              "    </tr>\n",
              "    <tr>\n",
              "      <th>4</th>\n",
              "      <td>/content/drive/MyDrive/COVID-19 Radiography Da...</td>\n",
              "      <td>NORMAL</td>\n",
              "      <td>NORMAL</td>\n",
              "    </tr>\n",
              "  </tbody>\n",
              "</table>\n",
              "</div>"
            ],
            "text/plain": [
              "                                           img_paths   label Predictions\n",
              "0  /content/drive/MyDrive/COVID-19 Radiography Da...   Viral       Viral\n",
              "1  /content/drive/MyDrive/COVID-19 Radiography Da...  NORMAL      NORMAL\n",
              "2  /content/drive/MyDrive/COVID-19 Radiography Da...   Viral       Viral\n",
              "3  /content/drive/MyDrive/COVID-19 Radiography Da...  NORMAL      NORMAL\n",
              "4  /content/drive/MyDrive/COVID-19 Radiography Da...  NORMAL      NORMAL"
            ]
          },
          "metadata": {
            "tags": []
          },
          "execution_count": 53
        }
      ]
    },
    {
      "cell_type": "code",
      "metadata": {
        "id": "1DuyBqWugqf3"
      },
      "source": [
        "# compute confusion matrix\r\n",
        "cnf_matrix = confusion_matrix(y_test, y_pred)\r\n",
        "np.set_printoptions(precision=2)"
      ],
      "execution_count": null,
      "outputs": []
    },
    {
      "cell_type": "code",
      "metadata": {
        "id": "RkYk-Apagqf3",
        "colab": {
          "base_uri": "https://localhost:8080/",
          "height": 739
        },
        "outputId": "f67d4ded-e788-4486-a84e-1ecd27150d5a"
      },
      "source": [
        "# plot normalized confusion matrix\r\n",
        "plt.figure()\r\n",
        "plot_confusion_matrix(cnf_matrix, classes = class_names, title = 'Normalized confusion matrix')\r\n",
        "plt.show();"
      ],
      "execution_count": null,
      "outputs": [
        {
          "output_type": "display_data",
          "data": {
            "text/plain": [
              "<Figure size 432x288 with 0 Axes>"
            ]
          },
          "metadata": {
            "tags": []
          }
        },
        {
          "output_type": "display_data",
          "data": {
            "image/png": "[encoded data removed]",
            "text/plain": [
              "<Figure size 720x720 with 2 Axes>"
            ]
          },
          "metadata": {
            "tags": [],
            "needs_background": "light"
          }
        }
      ]
    },
    {
      "cell_type": "markdown",
      "metadata": {
        "id": "hw0otfVAxnlZ"
      },
      "source": [
        "> We have a better recall for the Viral Pneumonia class (93%) than before tuning the model (88%).\r\n",
        "> The Normal class is perfect, 100% recall which means that all of the 'normal' images are perfectly identified."
      ]
    },
    {
      "cell_type": "markdown",
      "metadata": {
        "id": "xP6_zLAUhHfz"
      },
      "source": [
        "### Classification report"
      ]
    },
    {
      "cell_type": "code",
      "metadata": {
        "id": "ba1RBf4VhJaw",
        "colab": {
          "base_uri": "https://localhost:8080/"
        },
        "outputId": "cfe87b38-5301-44f7-f51b-a7b46eadc0d4"
      },
      "source": [
        "print(classification_report(y_test, y_pred, target_names = class_names))"
      ],
      "execution_count": null,
      "outputs": [
        {
          "output_type": "stream",
          "text": [
            "              precision    recall  f1-score   support\n",
            "\n",
            "    COVID-19       0.98      0.98      0.98        44\n",
            "      NORMAL       0.93      1.00      0.96       268\n",
            "       Viral       0.99      0.93      0.96       269\n",
            "\n",
            "    accuracy                           0.96       581\n",
            "   macro avg       0.97      0.97      0.97       581\n",
            "weighted avg       0.96      0.96      0.96       581\n",
            "\n"
          ],
          "name": "stdout"
        }
      ]
    },
    {
      "cell_type": "code",
      "metadata": {
        "id": "VOTqiYmZI7Wn"
      },
      "source": [
        "# final_model.save('/content/drive/MyDrive/fine_tuned_vgg16_first_model.h5')"
      ],
      "execution_count": null,
      "outputs": []
    }
  ]
}